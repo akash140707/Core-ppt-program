{
  "nbformat": 4,
  "nbformat_minor": 0,
  "metadata": {
    "colab": {
      "provenance": []
    },
    "kernelspec": {
      "name": "python3",
      "display_name": "Python 3"
    },
    "language_info": {
      "name": "python"
    }
  },
  "cells": [
    {
      "cell_type": "markdown",
      "source": [
        "1. Write a Python program to reverse a string without using any built-in string reversal functions.\n"
      ],
      "metadata": {
        "id": "OCB33WKxkuYv"
      }
    },
    {
      "cell_type": "code",
      "execution_count": null,
      "metadata": {
        "colab": {
          "base_uri": "https://localhost:8080/"
        },
        "id": "sCIqaFJ-ks7y",
        "outputId": "a1e609c9-284d-427b-b837-f24230dd623a"
      },
      "outputs": [
        {
          "output_type": "stream",
          "name": "stdout",
          "text": [
            "Enter a string: RAF\n",
            "Reversed string: FAR\n"
          ]
        }
      ],
      "source": [
        "def reverse_string(input_string):\n",
        "    reversed_string = ''\n",
        "    for i in range(len(input_string) - 1, -1, -1):\n",
        "        reversed_string += input_string[i]\n",
        "    return reversed_string\n",
        "\n",
        "# Example usage\n",
        "string_to_reverse = input(\"Enter a string: \")\n",
        "reversed_string = reverse_string(string_to_reverse)\n",
        "print(\"Reversed string:\", reversed_string)\n",
        "\n",
        "\n"
      ]
    },
    {
      "cell_type": "markdown",
      "source": [
        "2. Implement a function to check if a given string is a palindrome.\n"
      ],
      "metadata": {
        "id": "GL9rscixqVM6"
      }
    },
    {
      "cell_type": "code",
      "source": [
        "def is_palindrome(input_string):\n",
        "    input_string = input_string.lower()  # Convert the string to lowercase for case-insensitive comparison\n",
        "    reversed_string = input_string[::-1]  # Reverse the string\n",
        "\n",
        "    if input_string == reversed_string:\n",
        "        return True\n",
        "    else:\n",
        "        return False\n",
        "\n",
        "# Example usage\n",
        "string_to_check = input(\"Enter a string: \")\n",
        "if is_palindrome(string_to_check):\n",
        "    print(\"The string is a palindrome.\")\n",
        "else:\n",
        "    print(\"The string is not a palindrome.\")\n"
      ],
      "metadata": {
        "colab": {
          "base_uri": "https://localhost:8080/"
        },
        "id": "fZI_pVgvprs8",
        "outputId": "90b94919-165e-41dc-c784-e0fc05794247"
      },
      "execution_count": null,
      "outputs": [
        {
          "output_type": "stream",
          "name": "stdout",
          "text": [
            "Enter a string: malylam\n",
            "The string is a palindrome.\n"
          ]
        }
      ]
    },
    {
      "cell_type": "markdown",
      "source": [
        "3. Write a program to find the largest element in a given list."
      ],
      "metadata": {
        "id": "cpYXp56atZBH"
      }
    },
    {
      "cell_type": "code",
      "source": [
        "def find_largest_element(lst):\n",
        "    if len(lst) == 0:\n",
        "        return None\n",
        "\n",
        "    largest = lst[0]\n",
        "    for num in lst:\n",
        "        if num > largest:\n",
        "            largest = num\n",
        "\n",
        "    return largest\n",
        "\n",
        "# Example usage\n",
        "numbers = input(\"Enter a list of numbers separated by spaces: \").split()\n",
        "numbers = [int(num) for num in numbers]  # Convert the input numbers from strings to integers\n",
        "largest_number = find_largest_element(numbers)\n",
        "print(\"The largest number is:\", largest_number)\n"
      ],
      "metadata": {
        "colab": {
          "base_uri": "https://localhost:8080/"
        },
        "id": "CSBrLkW6tUMv",
        "outputId": "8df53584-4446-43f3-ec6a-a191115af36b"
      },
      "execution_count": null,
      "outputs": [
        {
          "output_type": "stream",
          "name": "stdout",
          "text": [
            "Enter a list of numbers separated by spaces: 2 3 4 5 6 7 8\n",
            "The largest number is: 8\n"
          ]
        }
      ]
    },
    {
      "cell_type": "markdown",
      "source": [
        "4. Implement a function to count the occurrence of each element in a list.\n"
      ],
      "metadata": {
        "id": "tDMjhsn9vYW9"
      }
    },
    {
      "cell_type": "code",
      "source": [
        "def count_occurrences(lst):\n",
        "    occurrence_count = {}\n",
        "\n",
        "    for element in lst:\n",
        "        if element in occurrence_count:\n",
        "            occurrence_count[element] += 1\n",
        "        else:\n",
        "            occurrence_count[element] = 1\n",
        "\n",
        "    return occurrence_count\n",
        "\n",
        "# Example usage\n",
        "elements = input(\"Enter a list of elements separated by spaces: \").split()\n",
        "occurrence_dict = count_occurrences(elements)\n",
        "print(\"Occurrences:\", occurrence_dict)\n"
      ],
      "metadata": {
        "colab": {
          "base_uri": "https://localhost:8080/"
        },
        "id": "hwv92fhWuvt4",
        "outputId": "e48ecb31-ed02-47a9-a478-cd7cae658d5f"
      },
      "execution_count": null,
      "outputs": [
        {
          "output_type": "stream",
          "name": "stdout",
          "text": [
            "Enter a list of elements separated by spaces: 1 2 33 45 678 2345\n",
            "Occurrences: {'1': 1, '2': 1, '33': 1, '45': 1, '678': 1, '2345': 1}\n"
          ]
        }
      ]
    },
    {
      "cell_type": "markdown",
      "source": [
        "5. Write a Python program to find the second largest number in a list.\n"
      ],
      "metadata": {
        "id": "xy7xHeJ2w-vR"
      }
    },
    {
      "cell_type": "code",
      "source": [
        " def find_second_largest(lst):\n",
        "    if len(lst) < 2:\n",
        "        return None\n",
        "\n",
        "    largest = float('-inf')\n",
        "    second_largest = float('-inf')\n",
        "\n",
        "    for num in lst:\n",
        "        if num > largest:\n",
        "            second_largest = largest\n",
        "            largest = num\n",
        "        elif num > second_largest and num != largest:\n",
        "            second_largest = num\n",
        "\n",
        "    if second_largest == float('-inf'):\n",
        "        return None\n",
        "    else:\n",
        "        return second_largest\n",
        "\n",
        "# Example usage\n",
        "numbers = input(\"Enter a list of numbers separated by spaces: \").split()\n",
        "numbers = [int(num) for num in numbers]  # Convert the input numbers from strings to integers\n",
        "second_largest_number = find_second_largest(numbers)\n",
        "if second_largest_number is None:\n",
        "    print(\"There is no second largest number.\")\n",
        "else:\n",
        "    print(\"The second largest number is:\", second_largest_number)\n"
      ],
      "metadata": {
        "colab": {
          "base_uri": "https://localhost:8080/"
        },
        "id": "JBNVcLO8voPc",
        "outputId": "202b4be0-391d-46c4-f16a-981e035f6df6"
      },
      "execution_count": null,
      "outputs": [
        {
          "output_type": "stream",
          "name": "stdout",
          "text": [
            "Enter a list of numbers separated by spaces: 1 2 3 44 55 66 \n",
            "The second largest number is: 55\n"
          ]
        }
      ]
    },
    {
      "cell_type": "markdown",
      "source": [
        "6. Implement a function to remove duplicate elements from a list.\n"
      ],
      "metadata": {
        "id": "PvlsrChv3kxB"
      }
    },
    {
      "cell_type": "code",
      "source": [
        "def remove_duplicates(lst):\n",
        "    return list(set(lst))\n",
        "\n",
        "# Example usage\n",
        "elements = input(\"Enter a list of elements separated by spaces: \").split()\n",
        "unique_elements = remove_duplicates(elements)\n",
        "print(\"List with duplicates removed:\", unique_elements)\n"
      ],
      "metadata": {
        "colab": {
          "base_uri": "https://localhost:8080/"
        },
        "id": "oXV-tOCvxTRO",
        "outputId": "aec75f94-788f-41b9-bd1d-25de043048f1"
      },
      "execution_count": null,
      "outputs": [
        {
          "output_type": "stream",
          "name": "stdout",
          "text": [
            "Enter a list of elements separated by spaces: 2 3 4 5 2 2 2 2 3 3 \n",
            "List with duplicates removed: ['3', '4', '5', '2']\n"
          ]
        }
      ]
    },
    {
      "cell_type": "markdown",
      "source": [
        "7. Write a program to calculate the factorial of a given number."
      ],
      "metadata": {
        "id": "4Z3i3YGB4PYC"
      }
    },
    {
      "cell_type": "code",
      "source": [
        "def factorial(n):\n",
        "    if n < 0:\n",
        "        return None\n",
        "    elif n == 0:\n",
        "        return 1\n",
        "    else:\n",
        "        result = 1\n",
        "        for i in range(1, n + 1):\n",
        "            result *= i\n",
        "        return result\n",
        "\n",
        "# Example usage\n",
        "number = int(input(\"Enter a number: \"))\n",
        "factorial_result = factorial(number)\n",
        "if factorial_result is None:\n",
        "    print(\"Factorial cannot be calculated for negative numbers.\")\n",
        "else:\n",
        "    print(\"Factorial of\", number, \"is:\", factorial_result)\n"
      ],
      "metadata": {
        "colab": {
          "base_uri": "https://localhost:8080/"
        },
        "id": "ByPmlw3W3qim",
        "outputId": "9f8690a1-3893-4e3c-9200-5db5aca2bec2"
      },
      "execution_count": null,
      "outputs": [
        {
          "output_type": "stream",
          "name": "stdout",
          "text": [
            "Enter a number: 5\n",
            "Factorial of 5 is: 120\n"
          ]
        }
      ]
    },
    {
      "cell_type": "markdown",
      "source": [
        "8. Implement a function to check if a given number is prime."
      ],
      "metadata": {
        "id": "RZ15tZo-4v9A"
      }
    },
    {
      "cell_type": "code",
      "source": [
        "def is_prime(n):\n",
        "    if n <= 1:\n",
        "        return False\n",
        "    for i in range(2, int(n ** 0.5) + 1):\n",
        "        if n % i == 0:\n",
        "            return False\n",
        "    return True\n",
        "\n",
        "# Example usage\n",
        "number = int(input(\"Enter a number: \"))\n",
        "if is_prime(number):\n",
        "    print(number, \"is a prime number.\")\n",
        "else:\n",
        "    print(number, \"is not a prime number.\")\n"
      ],
      "metadata": {
        "colab": {
          "base_uri": "https://localhost:8080/"
        },
        "id": "qIJoeBCn4WxD",
        "outputId": "1dde7b41-d6ee-469c-c1ae-ab6a85d885a3"
      },
      "execution_count": null,
      "outputs": [
        {
          "output_type": "stream",
          "name": "stdout",
          "text": [
            "Enter a number: 7\n",
            "7 is a prime number.\n"
          ]
        }
      ]
    },
    {
      "cell_type": "markdown",
      "source": [
        "9. Write a Python program to sort a list of integers in ascending order."
      ],
      "metadata": {
        "id": "S0v8B9mU5tx0"
      }
    },
    {
      "cell_type": "code",
      "source": [
        "def ascending_sort(lst):\n",
        "    sorted_list = sorted(lst)\n",
        "    return sorted_list\n",
        "\n",
        "# Example usage\n",
        "numbers = input(\"Enter a list of integers separated by spaces: \").split()\n",
        "numbers = [int(num) for num in numbers]  # Convert the input numbers from strings to integers\n",
        "sorted_numbers = ascending_sort(numbers)\n",
        "print(\"Sorted list:\", sorted_numbers)\n"
      ],
      "metadata": {
        "colab": {
          "base_uri": "https://localhost:8080/"
        },
        "id": "ovCaeMpP45qj",
        "outputId": "78581f66-a9d4-4372-dd38-f2c4710169ab"
      },
      "execution_count": null,
      "outputs": [
        {
          "output_type": "stream",
          "name": "stdout",
          "text": [
            "Enter a list of integers separated by spaces: 8 8 7 6 5 4 6 5 8 9 7 6 5 \n",
            "Sorted list: [4, 5, 5, 5, 6, 6, 6, 7, 7, 8, 8, 8, 9]\n"
          ]
        }
      ]
    },
    {
      "cell_type": "markdown",
      "source": [
        "10. Implement a function to find the sum of all numbers in a list."
      ],
      "metadata": {
        "id": "JhIt2sLA6hrZ"
      }
    },
    {
      "cell_type": "code",
      "source": [
        "def sum_of_numbers(lst):\n",
        "    total = sum(lst)\n",
        "    return total\n",
        "\n",
        "# Example usage\n",
        "numbers = input(\"Enter a list of numbers separated by spaces: \").split()\n",
        "numbers = [int(num) for num in numbers]  # Convert the input numbers from strings to integers\n",
        "sum_of_numbers = sum_of_numbers(numbers)\n",
        "print(\"Sum of numbers:\", sum_of_numbers)\n"
      ],
      "metadata": {
        "colab": {
          "base_uri": "https://localhost:8080/"
        },
        "id": "eHOxlKmb6Nlu",
        "outputId": "90f7a067-7790-477a-9070-ba1eb3485695"
      },
      "execution_count": null,
      "outputs": [
        {
          "output_type": "stream",
          "name": "stdout",
          "text": [
            "Enter a list of numbers separated by spaces: 1 2 3 4 5 6 7 8 9 \n",
            "Sum of numbers: 45\n"
          ]
        }
      ]
    },
    {
      "cell_type": "markdown",
      "source": [
        "11. Write a program to find the common elements between two lists."
      ],
      "metadata": {
        "id": "bnDctcYu7PaF"
      }
    },
    {
      "cell_type": "code",
      "source": [
        "def find_common_elements(list1, list2):\n",
        "    common_elements = set(list1) & set(list2)\n",
        "    return list(common_elements)\n",
        "\n",
        "# Example usage\n",
        "list1 = input(\"Enter elements of the first list separated by spaces: \").split()\n",
        "list2 = input(\"Enter elements of the second list separated by spaces: \").split()\n",
        "common_elements = find_common_elements(list1, list2)\n",
        "print(\"Common elements:\", common_elements)\n"
      ],
      "metadata": {
        "colab": {
          "base_uri": "https://localhost:8080/"
        },
        "id": "qgUL7kVF6nUj",
        "outputId": "1baaaa87-75c3-4a20-be4a-6cdc145eb2e0"
      },
      "execution_count": null,
      "outputs": [
        {
          "name": "stdout",
          "output_type": "stream",
          "text": [
            "Enter elements of the first list separated by spaces: 2 3 45 76 87 \n"
          ]
        }
      ]
    },
    {
      "cell_type": "markdown",
      "source": [
        "12. Implement a function to check if a given string is an anagram of another string."
      ],
      "metadata": {
        "id": "w1opnzbGLfY5"
      }
    },
    {
      "cell_type": "code",
      "source": [
        "def is_anagram(str1, str2):\n",
        "    # Remove spaces and convert both strings to lowercase\n",
        "    str1 = str1.replace(\" \", \"\").lower()\n",
        "    str2 = str2.replace(\" \", \"\").lower()\n",
        "\n",
        "    # Check if the lengths of the strings are equal\n",
        "    if len(str1) != len(str2):\n",
        "        return False\n",
        "\n",
        "    # Create dictionaries to store character frequencies\n",
        "    char_count1 = {}\n",
        "    char_count2 = {}\n",
        "\n",
        "    # Count the frequency of characters in the first string\n",
        "    for char in str1:\n",
        "        if char in char_count1:\n",
        "            char_count1[char] += 1\n",
        "        else:\n",
        "            char_count1[char] = 1\n",
        "\n",
        "    # Count the frequency of characters in the second string\n",
        "    for char in str2:\n",
        "        if char in char_count2:\n",
        "            char_count2[char] += 1\n",
        "        else:\n",
        "            char_count2[char] = 1\n",
        "\n",
        "    # Check if the character frequencies are equal\n",
        "    return char_count1 == char_count2\n",
        "\n",
        "string1 = \"listen\"\n",
        "string2 = \"silent\"\n",
        "print(is_anagram(string1, string2))  # Output: True\n",
        "\n",
        "string3 = \"eleven plus two\"\n",
        "string4 = \"twelve plus one\"\n",
        "print(is_anagram(string3, string4))  # Output: True\n",
        "\n",
        "string5 = \"python\"\n",
        "string6 = \"java\"\n",
        "print(is_anagram(string5, string6))  # Output: False\n"
      ],
      "metadata": {
        "id": "K9yQo0hp7h2v",
        "colab": {
          "base_uri": "https://localhost:8080/"
        },
        "outputId": "77aee55b-88df-42bc-8208-0b21a65ba583"
      },
      "execution_count": 1,
      "outputs": [
        {
          "output_type": "stream",
          "name": "stdout",
          "text": [
            "True\n",
            "True\n",
            "False\n"
          ]
        }
      ]
    },
    {
      "cell_type": "markdown",
      "source": [
        "13. Write a Python program to generate all permutations of a given string."
      ],
      "metadata": {
        "id": "LMgJKkVwMwLh"
      }
    },
    {
      "cell_type": "code",
      "source": [
        "def permute_string(string):\n",
        "    # Base case: If the string is empty, return an empty list\n",
        "    if len(string) == 0:\n",
        "        return []\n",
        "\n",
        "    # Base case: If the string contains only one character, return the string itself\n",
        "    if len(string) == 1:\n",
        "        return [string]\n",
        "\n",
        "    # List to store all permutations\n",
        "    permutations = []\n",
        "\n",
        "    # Iterate over each character in the string\n",
        "    for i in range(len(string)):\n",
        "        # Extract the current character\n",
        "        current_char = string[i]\n",
        "\n",
        "        # Generate all permutations of the remaining characters\n",
        "        remaining_chars = string[:i] + string[i+1:]\n",
        "        sub_permutations = permute_string(remaining_chars)\n",
        "\n",
        "        # Add the current character to the front of each sub-permutation\n",
        "        for sub_permutation in sub_permutations:\n",
        "            permutations.append(current_char + sub_permutation)\n",
        "\n",
        "    return permutations\n",
        "\n",
        "\n",
        "# Test the program\n",
        "string = \"abc\"\n",
        "permutations = permute_string(string)\n",
        "for permutation in permutations:\n",
        "    print(permutation)\n"
      ],
      "metadata": {
        "colab": {
          "base_uri": "https://localhost:8080/"
        },
        "id": "4qWX0-mnMFRl",
        "outputId": "801630fe-a0e6-4376-cbf2-1ed77235e5ab"
      },
      "execution_count": 2,
      "outputs": [
        {
          "output_type": "stream",
          "name": "stdout",
          "text": [
            "abc\n",
            "acb\n",
            "bac\n",
            "bca\n",
            "cab\n",
            "cba\n"
          ]
        }
      ]
    },
    {
      "cell_type": "markdown",
      "source": [
        "14. Implement a function to calculate the Fibonacci sequence up to a given number of terms."
      ],
      "metadata": {
        "id": "aINhyx5KM-aa"
      }
    },
    {
      "cell_type": "code",
      "source": [
        "def fibonacci(n):\n",
        "    # Base cases\n",
        "    if n <= 0:\n",
        "        return []\n",
        "    elif n == 1:\n",
        "        return [0]\n",
        "    elif n == 2:\n",
        "        return [0, 1]\n",
        "\n",
        "    # Initialize the sequence with the first two terms\n",
        "    sequence = [0, 1]\n",
        "\n",
        "    # Generate the Fibonacci sequence up to the nth term\n",
        "    for i in range(2, n):\n",
        "        next_term = sequence[i - 1] + sequence[i - 2]\n",
        "        sequence.append(next_term)\n",
        "\n",
        "    return sequence\n",
        "\n",
        "\n",
        "# Test the function\n",
        "num_terms = 10\n",
        "fib_sequence = fibonacci(num_terms)\n",
        "print(fib_sequence)\n"
      ],
      "metadata": {
        "colab": {
          "base_uri": "https://localhost:8080/"
        },
        "id": "BqO217F0M54w",
        "outputId": "6131cb15-195f-4816-a74a-a3e2c1a2a407"
      },
      "execution_count": 3,
      "outputs": [
        {
          "output_type": "stream",
          "name": "stdout",
          "text": [
            "[0, 1, 1, 2, 3, 5, 8, 13, 21, 34]\n"
          ]
        }
      ]
    },
    {
      "cell_type": "markdown",
      "source": [
        "15. Write a program to find the median of a list of numbers."
      ],
      "metadata": {
        "id": "nE8rC-5cNNbO"
      }
    },
    {
      "cell_type": "code",
      "source": [
        "def find_median(numbers):\n",
        "    # Sort the list of numbers in ascending order\n",
        "    sorted_numbers = sorted(numbers)\n",
        "\n",
        "    # Get the length of the list\n",
        "    length = len(sorted_numbers)\n",
        "\n",
        "    # Check if the length of the list is odd\n",
        "    if length % 2 == 1:\n",
        "        # If the length is odd, return the middle element\n",
        "        median = sorted_numbers[length // 2]\n",
        "    else:\n",
        "        # If the length is even, calculate the average of the two middle elements\n",
        "        mid1 = sorted_numbers[length // 2 - 1]\n",
        "        mid2 = sorted_numbers[length // 2]\n",
        "        median = (mid1 + mid2) / 2\n",
        "\n",
        "    return median\n",
        "\n",
        "\n",
        "# Test the program\n",
        "numbers = [5, 2, 9, 1, 7, 6]\n",
        "median = find_median(numbers)\n",
        "print(\"Median:\", median)\n"
      ],
      "metadata": {
        "colab": {
          "base_uri": "https://localhost:8080/"
        },
        "id": "THkisqWUNGpl",
        "outputId": "60da72da-d13c-4fc8-bc15-3a1465b8c0bf"
      },
      "execution_count": 4,
      "outputs": [
        {
          "output_type": "stream",
          "name": "stdout",
          "text": [
            "Median: 5.5\n"
          ]
        }
      ]
    },
    {
      "cell_type": "markdown",
      "source": [
        "16. Implement a function to check if a given list is sorted in non-decreasing order."
      ],
      "metadata": {
        "id": "YfbPj7x4NdIl"
      }
    },
    {
      "cell_type": "code",
      "source": [
        "def is_sorted(nums):\n",
        "    # Iterate over the list starting from the second element\n",
        "    for i in range(1, len(nums)):\n",
        "        # If the current element is smaller than the previous element, the list is not sorted\n",
        "        if nums[i] < nums[i - 1]:\n",
        "            return False\n",
        "\n",
        "    # If all elements are checked and the loop completes, the list is sorted\n",
        "    return True\n",
        "\n",
        "\n",
        "# Test the function\n",
        "numbers1 = [1, 2, 3, 4, 5]\n",
        "print(is_sorted(numbers1))  # Output: True\n",
        "\n",
        "numbers2 = [5, 3, 1]\n",
        "print(is_sorted(numbers2))  # Output: False\n"
      ],
      "metadata": {
        "colab": {
          "base_uri": "https://localhost:8080/"
        },
        "id": "DmN0k9SvNQsy",
        "outputId": "58507119-46ba-4411-d046-7b5145b160b2"
      },
      "execution_count": 5,
      "outputs": [
        {
          "output_type": "stream",
          "name": "stdout",
          "text": [
            "True\n",
            "False\n"
          ]
        }
      ]
    },
    {
      "cell_type": "markdown",
      "source": [
        "17. Write a Python program to find the intersection of two lists."
      ],
      "metadata": {
        "id": "mGzlWQn9NxbG"
      }
    },
    {
      "cell_type": "code",
      "source": [
        "def find_intersection(list1, list2):\n",
        "    # Convert the lists to sets for efficient intersection operation\n",
        "    set1 = set(list1)\n",
        "    set2 = set(list2)\n",
        "\n",
        "    # Find the common elements in both sets\n",
        "    intersection = set1.intersection(set2)\n",
        "\n",
        "    # Convert the intersection set back to a list\n",
        "    intersection_list = list(intersection)\n",
        "\n",
        "    return intersection_list\n",
        "\n",
        "\n",
        "# Test the program\n",
        "list1 = [1, 2, 3, 4, 5]\n",
        "list2 = [4, 5, 6, 7, 8]\n",
        "intersection = find_intersection(list1, list2)\n",
        "print(\"Intersection:\", intersection)\n"
      ],
      "metadata": {
        "colab": {
          "base_uri": "https://localhost:8080/"
        },
        "id": "eqhOjnw9NlQs",
        "outputId": "4633a194-f8a6-4c0a-dab2-912bc43cac0f"
      },
      "execution_count": 6,
      "outputs": [
        {
          "output_type": "stream",
          "name": "stdout",
          "text": [
            "Intersection: [4, 5]\n"
          ]
        }
      ]
    },
    {
      "cell_type": "markdown",
      "source": [
        "18. Implement a function to find the maximum subarray sum in a given list."
      ],
      "metadata": {
        "id": "KldrIkJhN3YW"
      }
    },
    {
      "cell_type": "code",
      "source": [
        "def max_subarray_sum(nums):\n",
        "    if len(nums) == 0:\n",
        "        return 0\n",
        "\n",
        "    max_sum = float('-inf')  # Initialize with negative infinity\n",
        "    current_sum = 0\n",
        "\n",
        "    for num in nums:\n",
        "        current_sum += num\n",
        "\n",
        "        # Update max_sum if current_sum is greater\n",
        "        if current_sum > max_sum:\n",
        "            max_sum = current_sum\n",
        "\n",
        "        # Reset current_sum to 0 if it becomes negative\n",
        "        if current_sum < 0:\n",
        "            current_sum = 0\n",
        "\n",
        "    return max_sum\n",
        "\n",
        "\n",
        "# Test the function\n",
        "numbers = [-2, 1, -3, 4, -1, 2, 1, -5, 4]\n",
        "max_sum = max_subarray_sum(numbers)\n",
        "print(\"Maximum Subarray Sum:\", max_sum)\n"
      ],
      "metadata": {
        "colab": {
          "base_uri": "https://localhost:8080/"
        },
        "id": "BLEdxvJJNzwx",
        "outputId": "244c5b0e-c63a-48da-bb03-66864fa31b21"
      },
      "execution_count": 7,
      "outputs": [
        {
          "output_type": "stream",
          "name": "stdout",
          "text": [
            "Maximum Subarray Sum: 6\n"
          ]
        }
      ]
    },
    {
      "cell_type": "markdown",
      "source": [
        "19. Write a program to remove all vowels from a given string."
      ],
      "metadata": {
        "id": "nGHGG1cVOByz"
      }
    },
    {
      "cell_type": "code",
      "source": [
        "def remove_vowels(string):\n",
        "    vowels = ['a', 'e', 'i', 'o', 'u', 'A', 'E', 'I', 'O', 'U']\n",
        "    # Initialize an empty string to store the result\n",
        "    result = \"\"\n",
        "\n",
        "    for char in string:\n",
        "        # Check if the character is a vowel\n",
        "        if char not in vowels:\n",
        "            # Append non-vowel characters to the result string\n",
        "            result += char\n",
        "\n",
        "    return result\n",
        "\n",
        "\n",
        "# Test the program\n",
        "input_string = \"Hello, World!\"\n",
        "new_string = remove_vowels(input_string)\n",
        "print(\"Original String:\", input_string)\n",
        "print(\"String without vowels:\", new_string)\n"
      ],
      "metadata": {
        "colab": {
          "base_uri": "https://localhost:8080/"
        },
        "id": "7X-bdf4PN-Ex",
        "outputId": "eb0ef986-0b8d-4bc0-c6f8-e7ab72c1e5e1"
      },
      "execution_count": 8,
      "outputs": [
        {
          "output_type": "stream",
          "name": "stdout",
          "text": [
            "Original String: Hello, World!\n",
            "String without vowels: Hll, Wrld!\n"
          ]
        }
      ]
    },
    {
      "cell_type": "markdown",
      "source": [
        "20. Implement a function to reverse the order of words in a given sentence."
      ],
      "metadata": {
        "id": "KSQTWl-DOLhT"
      }
    },
    {
      "cell_type": "code",
      "source": [
        "def reverse_sentence(sentence):\n",
        "    # Split the sentence into individual words\n",
        "    words = sentence.split()\n",
        "\n",
        "    # Reverse the order of words\n",
        "    reversed_words = words[::-1]\n",
        "\n",
        "    # Join the reversed words to form the reversed sentence\n",
        "    reversed_sentence = \" \".join(reversed_words)\n",
        "\n",
        "    return reversed_sentence\n",
        "\n",
        "\n",
        "# Test the function\n",
        "input_sentence = \"Hello, how are you?\"\n",
        "reversed_sentence = reverse_sentence(input_sentence)\n",
        "print(\"Original Sentence:\", input_sentence)\n",
        "print(\"Reversed Sentence:\", reversed_sentence)\n"
      ],
      "metadata": {
        "colab": {
          "base_uri": "https://localhost:8080/"
        },
        "id": "_ddRKNOBOHTl",
        "outputId": "c8febe23-c4a7-44dd-fbfa-80951df4d048"
      },
      "execution_count": 9,
      "outputs": [
        {
          "output_type": "stream",
          "name": "stdout",
          "text": [
            "Original Sentence: Hello, how are you?\n",
            "Reversed Sentence: you? are how Hello,\n"
          ]
        }
      ]
    },
    {
      "cell_type": "markdown",
      "source": [
        "21. Write a Python program to check if two strings are anagrams of each other."
      ],
      "metadata": {
        "id": "FYOSunEFOVDs"
      }
    },
    {
      "cell_type": "code",
      "source": [
        "def is_anagram(str1, str2):\n",
        "    # Remove spaces and convert both strings to lowercase\n",
        "    str1 = str1.replace(\" \", \"\").lower()\n",
        "    str2 = str2.replace(\" \", \"\").lower()\n",
        "\n",
        "    # Check if the lengths of the strings are equal\n",
        "    if len(str1) != len(str2):\n",
        "        return False\n",
        "\n",
        "    # Create dictionaries to store character frequencies\n",
        "    char_count1 = {}\n",
        "    char_count2 = {}\n",
        "\n",
        "    # Count the frequency of characters in the first string\n",
        "    for char in str1:\n",
        "        if char in char_count1:\n",
        "            char_count1[char] += 1\n",
        "        else:\n",
        "            char_count1[char] = 1\n",
        "\n",
        "    # Count the frequency of characters in the second string\n",
        "    for char in str2:\n",
        "        if char in char_count2:\n",
        "            char_count2[char] += 1\n",
        "        else:\n",
        "            char_count2[char] = 1\n",
        "\n",
        "    # Check if the character frequencies are equal\n",
        "    return char_count1 == char_count2\n",
        "\n",
        "\n",
        "# Test the program\n",
        "string1 = \"listen\"\n",
        "string2 = \"silent\"\n",
        "print(is_anagram(string1, string2))  # Output: True\n",
        "\n",
        "string3 = \"python\"\n",
        "string4 = \"java\"\n",
        "print(is_anagram(string3, string4))  # Output: False\n"
      ],
      "metadata": {
        "colab": {
          "base_uri": "https://localhost:8080/"
        },
        "id": "CLt4RqoSOQts",
        "outputId": "a6f2231d-634c-46fa-a6d3-17196801c319"
      },
      "execution_count": 10,
      "outputs": [
        {
          "output_type": "stream",
          "name": "stdout",
          "text": [
            "True\n",
            "False\n"
          ]
        }
      ]
    },
    {
      "cell_type": "markdown",
      "source": [
        "22. Implement a function to find the first non-repeating character in a string."
      ],
      "metadata": {
        "id": "YuEJWjp_PCht"
      }
    },
    {
      "cell_type": "code",
      "source": [
        "def find_first_non_repeating_char(string):\n",
        "    # Create a dictionary to store character frequencies\n",
        "    char_count = {}\n",
        "\n",
        "    # Count the frequency of each character in the string\n",
        "    for char in string:\n",
        "        if char in char_count:\n",
        "            char_count[char] += 1\n",
        "        else:\n",
        "            char_count[char] = 1\n",
        "\n",
        "    # Find the first non-repeating character\n",
        "    for char in string:\n",
        "        if char_count[char] == 1:\n",
        "            return char\n",
        "\n",
        "    # If no non-repeating character is found, return None\n",
        "    return None\n",
        "\n",
        "\n",
        "# Test the function\n",
        "input_string = \"abracadabra\"\n",
        "first_non_repeating_char = find_first_non_repeating_char(input_string)\n",
        "print(\"Input String:\", input_string)\n",
        "print(\"First Non-Repeating Character:\", first_non_repeating_char)\n"
      ],
      "metadata": {
        "colab": {
          "base_uri": "https://localhost:8080/"
        },
        "id": "lIAZBUVROz0q",
        "outputId": "58906e01-a389-4ec5-9e2b-670d3945fdec"
      },
      "execution_count": 11,
      "outputs": [
        {
          "output_type": "stream",
          "name": "stdout",
          "text": [
            "Input String: abracadabra\n",
            "First Non-Repeating Character: c\n"
          ]
        }
      ]
    },
    {
      "cell_type": "markdown",
      "source": [
        "23. Write a program to find the prime factors of a given number."
      ],
      "metadata": {
        "id": "AkGDYT24PNla"
      }
    },
    {
      "cell_type": "code",
      "source": [
        "def find_prime_factors(n):\n",
        "    prime_factors = []\n",
        "    divisor = 2\n",
        "\n",
        "    while divisor * divisor <= n:\n",
        "        if n % divisor == 0:\n",
        "            prime_factors.append(divisor)\n",
        "            n //= divisor\n",
        "        else:\n",
        "            divisor += 1\n",
        "\n",
        "    if n > 1:\n",
        "        prime_factors.append(n)\n",
        "\n",
        "    return prime_factors\n",
        "\n",
        "\n",
        "# Test the program\n",
        "number = 56\n",
        "prime_factors = find_prime_factors(number)\n",
        "print(\"Prime Factors of\", number, \":\", prime_factors)\n"
      ],
      "metadata": {
        "colab": {
          "base_uri": "https://localhost:8080/"
        },
        "id": "5aHp4LvQPJS5",
        "outputId": "89178970-ef97-47b1-c5c9-550c3da3b51c"
      },
      "execution_count": 12,
      "outputs": [
        {
          "output_type": "stream",
          "name": "stdout",
          "text": [
            "Prime Factors of 56 : [2, 2, 2, 7]\n"
          ]
        }
      ]
    },
    {
      "cell_type": "markdown",
      "source": [
        "24. Implement a function to check if a given number is a power of two."
      ],
      "metadata": {
        "id": "fDlUKHvTPVRD"
      }
    },
    {
      "cell_type": "code",
      "source": [
        "def is_power_of_two(n):\n",
        "    # Check if the number is positive and non-zero\n",
        "    if n <= 0:\n",
        "        return False\n",
        "\n",
        "    # Check if the number is a power of two by counting the number of set bits\n",
        "    # If there is only one set bit, the number is a power of two\n",
        "    return (n & (n - 1)) == 0\n",
        "\n",
        "\n",
        "# Test the function\n",
        "number1 = 8\n",
        "print(is_power_of_two(number1))  # Output: True\n",
        "\n",
        "number2 = 12\n",
        "print(is_power_of_two(number2))  # Output: False\n"
      ],
      "metadata": {
        "colab": {
          "base_uri": "https://localhost:8080/"
        },
        "id": "eH0_fDXSPV5E",
        "outputId": "dcdece6b-5145-4612-8277-4b57667b31a7"
      },
      "execution_count": 13,
      "outputs": [
        {
          "output_type": "stream",
          "name": "stdout",
          "text": [
            "True\n",
            "False\n"
          ]
        }
      ]
    },
    {
      "cell_type": "markdown",
      "source": [
        "25. Write a Python program to merge two sorted lists into a single sorted list."
      ],
      "metadata": {
        "id": "KSI5KpG0PiwI"
      }
    },
    {
      "cell_type": "code",
      "source": [
        "def merge_sorted_lists(list1, list2):\n",
        "    merged_list = []\n",
        "    i = 0\n",
        "    j = 0\n",
        "\n",
        "    while i < len(list1) and j < len(list2):\n",
        "        if list1[i] < list2[j]:\n",
        "            merged_list.append(list1[i])\n",
        "            i += 1\n",
        "        else:\n",
        "            merged_list.append(list2[j])\n",
        "            j += 1\n",
        "\n",
        "    # Append the remaining elements from list1, if any\n",
        "    while i < len(list1):\n",
        "        merged_list.append(list1[i])\n",
        "        i += 1\n",
        "\n",
        "    # Append the remaining elements from list2, if any\n",
        "    while j < len(list2):\n",
        "        merged_list.append(list2[j])\n",
        "        j += 1\n",
        "\n",
        "    return merged_list\n",
        "\n",
        "\n",
        "# Test the program\n",
        "list1 = [1, 3, 5, 7, 9]\n",
        "list2 = [2, 4, 6, 8, 10]\n",
        "merged_list = merge_sorted_lists(list1, list2)\n",
        "print(\"Merged List:\", merged_list)\n"
      ],
      "metadata": {
        "colab": {
          "base_uri": "https://localhost:8080/"
        },
        "id": "ys8Q-cZvPjVX",
        "outputId": "5b080620-62b4-4613-a5bf-44fb48120e77"
      },
      "execution_count": 14,
      "outputs": [
        {
          "output_type": "stream",
          "name": "stdout",
          "text": [
            "Merged List: [1, 2, 3, 4, 5, 6, 7, 8, 9, 10]\n"
          ]
        }
      ]
    },
    {
      "cell_type": "markdown",
      "source": [
        "26. Implement a function to find the mode of a list of numbers."
      ],
      "metadata": {
        "id": "KcEOKmjRP7zy"
      }
    },
    {
      "cell_type": "code",
      "source": [
        "def find_mode(numbers):\n",
        "    # Create a dictionary to store the frequency of each number\n",
        "    number_count = {}\n",
        "\n",
        "    # Count the frequency of each number in the list\n",
        "    for number in numbers:\n",
        "        if number in number_count:\n",
        "            number_count[number] += 1\n",
        "        else:\n",
        "            number_count[number] = 1\n",
        "\n",
        "    # Find the mode(s) with the highest frequency\n",
        "    max_frequency = max(number_count.values())\n",
        "    modes = [number for number, frequency in number_count.items() if frequency == max_frequency]\n",
        "\n",
        "    return modes\n",
        "\n",
        "\n",
        "# Test the function\n",
        "number_list = [1, 2, 2, 3, 3, 3, 4, 5, 5, 5, 5]\n",
        "modes = find_mode(number_list)\n",
        "print(\"Mode(s):\", modes)\n"
      ],
      "metadata": {
        "colab": {
          "base_uri": "https://localhost:8080/"
        },
        "id": "GVpAQYFWP2Xh",
        "outputId": "ded23531-8053-425a-ac48-19ec6bfd26a2"
      },
      "execution_count": 15,
      "outputs": [
        {
          "output_type": "stream",
          "name": "stdout",
          "text": [
            "Mode(s): [5]\n"
          ]
        }
      ]
    },
    {
      "cell_type": "markdown",
      "source": [
        "27. Write a program to find the greatest common divisor (GCD) of two numbers."
      ],
      "metadata": {
        "id": "9LmaviT3QIpy"
      }
    },
    {
      "cell_type": "code",
      "source": [
        "def find_gcd(a, b):\n",
        "    while b != 0:\n",
        "        # Calculate the remainder using the modulo operator\n",
        "        remainder = a % b\n",
        "\n",
        "        # Update the values of a and b\n",
        "        a = b\n",
        "        b = remainder\n",
        "\n",
        "    # Return the GCD, which is the value of a\n",
        "    return a\n",
        "\n",
        "\n",
        "# Test the program\n",
        "number1 = 36\n",
        "number2 = 48\n",
        "gcd = find_gcd(number1, number2)\n",
        "print(\"GCD of\", number1, \"and\", number2, \":\", gcd)\n"
      ],
      "metadata": {
        "colab": {
          "base_uri": "https://localhost:8080/"
        },
        "id": "CGjweVhFQE-k",
        "outputId": "b9b53c26-e1f1-4383-9260-2a3d82fd8591"
      },
      "execution_count": 16,
      "outputs": [
        {
          "output_type": "stream",
          "name": "stdout",
          "text": [
            "GCD of 36 and 48 : 12\n"
          ]
        }
      ]
    },
    {
      "cell_type": "markdown",
      "source": [
        "28. Implement a function to calculate the square root of a given number."
      ],
      "metadata": {
        "id": "7Ptbh3XeQTQN"
      }
    },
    {
      "cell_type": "code",
      "source": [
        "def calculate_square_root(n):\n",
        "    if n == 0:\n",
        "        return 0\n",
        "\n",
        "    # Initialize the initial guess for the square root\n",
        "    guess = n / 2\n",
        "\n",
        "    # Iterate until the guess is close enough to the actual square root\n",
        "    while True:\n",
        "        new_guess = (guess + n / guess) / 2\n",
        "        if abs(guess - new_guess) < 1e-9:\n",
        "            break\n",
        "        guess = new_guess\n",
        "\n",
        "    return new_guess\n",
        "\n",
        "\n",
        "# Test the function\n",
        "number = 25\n",
        "square_root = calculate_square_root(number)\n",
        "print(\"Square Root of\", number, \":\", square_root)\n"
      ],
      "metadata": {
        "colab": {
          "base_uri": "https://localhost:8080/"
        },
        "id": "s4NtGu9oQPIe",
        "outputId": "ae4f0835-cf43-4eb8-a9df-1f3ae7c12f46"
      },
      "execution_count": 17,
      "outputs": [
        {
          "output_type": "stream",
          "name": "stdout",
          "text": [
            "Square Root of 25 : 5.0\n"
          ]
        }
      ]
    },
    {
      "cell_type": "markdown",
      "source": [
        "29. Write a Python program to check if a given string is a valid palindrome ignoring non-alphanumeric characters."
      ],
      "metadata": {
        "id": "YB_WzbEoQZDA"
      }
    },
    {
      "cell_type": "code",
      "source": [
        "import re\n",
        "\n",
        "def is_valid_palindrome(string):\n",
        "    # Remove non-alphanumeric characters and convert to lowercase\n",
        "    cleaned_string = re.sub(r'[^a-zA-Z0-9]', '', string.lower())\n",
        "\n",
        "    # Check if the cleaned string is a palindrome\n",
        "    return cleaned_string == cleaned_string[::-1]\n",
        "\n",
        "\n",
        "# Test the program\n",
        "input_string1 = \"A man, a plan, a canal, Panama!\"\n",
        "print(is_valid_palindrome(input_string1))  # Output: True\n",
        "\n",
        "input_string2 = \"race a car\"\n",
        "print(is_valid_palindrome(input_string2))  # Output: False\n"
      ],
      "metadata": {
        "colab": {
          "base_uri": "https://localhost:8080/"
        },
        "id": "gSEh9lP7QZdC",
        "outputId": "09bd1d36-a470-4704-b76f-14f92a13725a"
      },
      "execution_count": 18,
      "outputs": [
        {
          "output_type": "stream",
          "name": "stdout",
          "text": [
            "True\n",
            "False\n"
          ]
        }
      ]
    },
    {
      "cell_type": "markdown",
      "source": [
        "30. Implement a function to find the minimum element in a rotated sorted list."
      ],
      "metadata": {
        "id": "Y0W0_36DQfG7"
      }
    },
    {
      "cell_type": "code",
      "source": [
        "def find_min_element(nums):\n",
        "    left = 0\n",
        "    right = len(nums) - 1\n",
        "\n",
        "    # Handle the case where the list is not rotated\n",
        "    if nums[left] <= nums[right]:\n",
        "        return nums[left]\n",
        "\n",
        "    # Perform binary search to find the minimum element\n",
        "    while left < right:\n",
        "        mid = left + (right - left) // 2\n",
        "\n",
        "        # Check if the mid element is greater than the right element\n",
        "        # If so, the minimum element is in the right half\n",
        "        if nums[mid] > nums[right]:\n",
        "            left = mid + 1\n",
        "        # Otherwise, the minimum element is in the left half\n",
        "        else:\n",
        "            right = mid\n",
        "\n",
        "    # The left pointer will eventually point to the minimum element\n",
        "    return nums[left]\n",
        "\n",
        "\n",
        "# Test the function\n",
        "rotated_list = [4, 5, 6, 7, 0, 1, 2]\n",
        "min_element = find_min_element(rotated_list)\n",
        "print(\"Minimum Element:\", min_element)\n"
      ],
      "metadata": {
        "colab": {
          "base_uri": "https://localhost:8080/"
        },
        "id": "aN1kbu28Qfsu",
        "outputId": "dbb9e715-8f26-432f-904e-23c2f421f14f"
      },
      "execution_count": 19,
      "outputs": [
        {
          "output_type": "stream",
          "name": "stdout",
          "text": [
            "Minimum Element: 0\n"
          ]
        }
      ]
    },
    {
      "cell_type": "markdown",
      "source": [
        "31. Write a program to find the sum of all even numbers in a list."
      ],
      "metadata": {
        "id": "bnhu4ZQqRCgz"
      }
    },
    {
      "cell_type": "code",
      "source": [
        "def sum_of_even_numbers(numbers):\n",
        "    # Initialize the sum variable\n",
        "    total_sum = 0\n",
        "\n",
        "    # Iterate over the numbers in the list\n",
        "    for number in numbers:\n",
        "        # Check if the number is even\n",
        "        if number % 2 == 0:\n",
        "            # Add the even number to the sum\n",
        "            total_sum += number\n",
        "\n",
        "    return total_sum\n",
        "\n",
        "\n",
        "# Test the program\n",
        "number_list = [1, 2, 3, 4, 5, 6, 7, 8, 9, 10]\n",
        "even_sum = sum_of_even_numbers(number_list)\n",
        "print(\"Sum of Even Numbers:\", even_sum)\n",
        "\n"
      ],
      "metadata": {
        "colab": {
          "base_uri": "https://localhost:8080/"
        },
        "id": "pRQSL1moQ9lk",
        "outputId": "296245b1-f971-43ae-8301-fbe26df39c86"
      },
      "execution_count": 20,
      "outputs": [
        {
          "output_type": "stream",
          "name": "stdout",
          "text": [
            "Sum of Even Numbers: 30\n"
          ]
        }
      ]
    },
    {
      "cell_type": "markdown",
      "source": [
        "32. Implement a function to calculate the power of a number using recursion."
      ],
      "metadata": {
        "id": "Jk7bQHz_RamD"
      }
    },
    {
      "cell_type": "code",
      "source": [
        "def power(base, exponent):\n",
        "    if exponent == 0:\n",
        "        return 1\n",
        "    elif exponent > 0:\n",
        "        return base * power(base, exponent - 1)\n",
        "    else:\n",
        "        return 1 / (base * power(base, -exponent - 1))\n",
        "\n",
        "\n",
        "# Test the function\n",
        "base = 2\n",
        "exponent = 3\n",
        "result = power(base, exponent)\n",
        "print(base, \"raised to the power of\", exponent, \":\", result)\n"
      ],
      "metadata": {
        "colab": {
          "base_uri": "https://localhost:8080/"
        },
        "id": "57vNgDIGRX_l",
        "outputId": "4b2862c5-2a85-4116-b785-315ab181ab08"
      },
      "execution_count": 21,
      "outputs": [
        {
          "output_type": "stream",
          "name": "stdout",
          "text": [
            "2 raised to the power of 3 : 8\n"
          ]
        }
      ]
    },
    {
      "cell_type": "markdown",
      "source": [
        "33. Write a Python program to remove duplicates from a list while preserving the order."
      ],
      "metadata": {
        "id": "fzEX2qVfRszt"
      }
    },
    {
      "cell_type": "code",
      "source": [
        "def remove_duplicates_preserve_order(lst):\n",
        "    unique_list = []\n",
        "    seen = set()\n",
        "\n",
        "    for item in lst:\n",
        "        if item not in seen:\n",
        "            unique_list.append(item)\n",
        "            seen.add(item)\n",
        "\n",
        "    return unique_list\n",
        "\n",
        "\n",
        "# Test the program\n",
        "my_list = [1, 3, 2, 2, 4, 3, 5, 1, 5]\n",
        "new_list = remove_duplicates_preserve_order(my_list)\n",
        "print(\"Original List:\", my_list)\n",
        "print(\"List with Duplicates Removed:\", new_list)\n"
      ],
      "metadata": {
        "colab": {
          "base_uri": "https://localhost:8080/"
        },
        "id": "nkVNAzfARonA",
        "outputId": "2b86ccd3-dfcf-4c81-8bda-696bfaef5d2f"
      },
      "execution_count": 22,
      "outputs": [
        {
          "output_type": "stream",
          "name": "stdout",
          "text": [
            "Original List: [1, 3, 2, 2, 4, 3, 5, 1, 5]\n",
            "List with Duplicates Removed: [1, 3, 2, 4, 5]\n"
          ]
        }
      ]
    },
    {
      "cell_type": "markdown",
      "source": [
        "34. Implement a function to find the longest common prefix among a list of strings."
      ],
      "metadata": {
        "id": "EMri6QjIR7by"
      }
    },
    {
      "cell_type": "code",
      "source": [
        "def longest_common_prefix(strs):\n",
        "    if not strs:\n",
        "        return \"\"\n",
        "\n",
        "    # Find the minimum length among all strings\n",
        "    min_length = min(len(string) for string in strs)\n",
        "\n",
        "    # Initialize the longest common prefix\n",
        "    prefix = \"\"\n",
        "\n",
        "    # Iterate over each character position\n",
        "    for i in range(min_length):\n",
        "        # Check if all characters at position i are the same\n",
        "        if all(string[i] == strs[0][i] for string in strs):\n",
        "            # Append the common character to the prefix\n",
        "            prefix += strs[0][i]\n",
        "        else:\n",
        "            # Stop iterating if characters are not the same\n",
        "            break\n",
        "\n",
        "    return prefix\n",
        "\n",
        "\n",
        "# Test the function\n",
        "string_list = [\"flower\", \"flow\", \"flight\"]\n",
        "common_prefix = longest_common_prefix(string_list)\n",
        "print(\"Longest Common Prefix:\", common_prefix)\n"
      ],
      "metadata": {
        "colab": {
          "base_uri": "https://localhost:8080/"
        },
        "id": "NOKQs0tSR2T1",
        "outputId": "956acd74-9a2f-4aac-e84b-4921a2bc1695"
      },
      "execution_count": 23,
      "outputs": [
        {
          "output_type": "stream",
          "name": "stdout",
          "text": [
            "Longest Common Prefix: fl\n"
          ]
        }
      ]
    },
    {
      "cell_type": "markdown",
      "source": [
        "35. Write a program to check if a given number is a perfect square."
      ],
      "metadata": {
        "id": "HxlXyLzQSBri"
      }
    },
    {
      "cell_type": "code",
      "source": [
        "def is_perfect_square(number):\n",
        "    if number < 0:\n",
        "        return False\n",
        "\n",
        "    # Use the property that the square root of a perfect square is an integer\n",
        "    sqrt = int(number ** 0.5)\n",
        "\n",
        "    # Check if the square of the square root is equal to the original number\n",
        "    return sqrt * sqrt == number\n",
        "\n",
        "\n",
        "# Test the program\n",
        "num1 = 16\n",
        "print(is_perfect_square(num1))  # Output: True\n",
        "\n",
        "num2 = 14\n",
        "print(is_perfect_square(num2))  # Output: False\n"
      ],
      "metadata": {
        "colab": {
          "base_uri": "https://localhost:8080/"
        },
        "id": "RpnYSFaFR-cC",
        "outputId": "f52ae551-6501-41e7-d4d1-f8002827300a"
      },
      "execution_count": 24,
      "outputs": [
        {
          "output_type": "stream",
          "name": "stdout",
          "text": [
            "True\n",
            "False\n"
          ]
        }
      ]
    },
    {
      "cell_type": "markdown",
      "source": [
        "36. Implement a function to calculate the product of all elements in a list."
      ],
      "metadata": {
        "id": "hxTdtdwmSQYe"
      }
    },
    {
      "cell_type": "code",
      "source": [
        "def calculate_product(numbers):\n",
        "    product = 1\n",
        "\n",
        "    for number in numbers:\n",
        "        product *= number\n",
        "\n",
        "    return product\n",
        "\n",
        "\n",
        "# Test the function\n",
        "number_list = [2, 3, 4, 5]\n",
        "product = calculate_product(number_list)\n",
        "print(\"Product of List:\", product)\n"
      ],
      "metadata": {
        "colab": {
          "base_uri": "https://localhost:8080/"
        },
        "id": "7swUoEdrSMas",
        "outputId": "e217520c-0cb0-4eb3-8607-13f56a7add73"
      },
      "execution_count": 25,
      "outputs": [
        {
          "output_type": "stream",
          "name": "stdout",
          "text": [
            "Product of List: 120\n"
          ]
        }
      ]
    },
    {
      "cell_type": "markdown",
      "source": [
        "37. Write a Python program to reverse the order of words in a sentence while preserving the word order."
      ],
      "metadata": {
        "id": "ZjLl_-I5ScA4"
      }
    },
    {
      "cell_type": "code",
      "source": [
        "def reverse_sentence(sentence):\n",
        "    # Split the sentence into individual words\n",
        "    words = sentence.split()\n",
        "\n",
        "    # Reverse the order of words\n",
        "    reversed_words = words[::-1]\n",
        "\n",
        "    # Join the reversed words to form the reversed sentence\n",
        "    reversed_sentence = ' '.join(reversed_words)\n",
        "\n",
        "    return reversed_sentence\n",
        "\n",
        "\n",
        "# Test the program\n",
        "input_sentence = \"Hello, how are you?\"\n",
        "reversed_sentence = reverse_sentence(input_sentence)\n",
        "print(\"Input Sentence:\", input_sentence)\n",
        "print(\"Reversed Sentence:\", reversed_sentence)\n"
      ],
      "metadata": {
        "colab": {
          "base_uri": "https://localhost:8080/"
        },
        "id": "X4T0aCMZSXLs",
        "outputId": "7be5419b-2150-48b0-8152-c6dc8f000835"
      },
      "execution_count": 26,
      "outputs": [
        {
          "output_type": "stream",
          "name": "stdout",
          "text": [
            "Input Sentence: Hello, how are you?\n",
            "Reversed Sentence: you? are how Hello,\n"
          ]
        }
      ]
    },
    {
      "cell_type": "markdown",
      "source": [
        "38. Implement a function to find the missing number in a given list of consecutive numbers."
      ],
      "metadata": {
        "id": "v-aqWigGSlUZ"
      }
    },
    {
      "cell_type": "code",
      "source": [
        "def find_missing_number(nums):\n",
        "    n = len(nums) + 1\n",
        "    expected_sum = n * (n + 1) // 2\n",
        "    actual_sum = sum(nums)\n",
        "    missing_number = expected_sum - actual_sum\n",
        "    return missing_number\n",
        "\n",
        "\n",
        "# Test the function\n",
        "number_list = [1, 2, 3, 5, 6, 7, 8, 9]\n",
        "missing_number = find_missing_number(number_list)\n",
        "print(\"Missing Number:\", missing_number)\n"
      ],
      "metadata": {
        "colab": {
          "base_uri": "https://localhost:8080/"
        },
        "id": "czRvyT_RSffC",
        "outputId": "76a58ecf-9bf7-4946-fdd7-b33e7a2229f4"
      },
      "execution_count": 27,
      "outputs": [
        {
          "output_type": "stream",
          "name": "stdout",
          "text": [
            "Missing Number: 4\n"
          ]
        }
      ]
    },
    {
      "cell_type": "markdown",
      "source": [
        "39. Write a program to find the sum of digits of a given number."
      ],
      "metadata": {
        "id": "fr2k_SdcSzKd"
      }
    },
    {
      "cell_type": "code",
      "source": [
        "def sum_of_digits(number):\n",
        "    # Convert the number to a string\n",
        "    number_str = str(number)\n",
        "\n",
        "    # Initialize the sum variable\n",
        "    digit_sum = 0\n",
        "\n",
        "    # Iterate over each digit character\n",
        "    for digit_char in number_str:\n",
        "        # Convert the digit character back to an integer\n",
        "        digit = int(digit_char)\n",
        "\n",
        "        # Add the digit to the sum\n",
        "        digit_sum += digit\n",
        "\n",
        "    return digit_sum\n",
        "\n",
        "\n",
        "# Test the program\n",
        "number = 12345\n",
        "digit_sum = sum_of_digits(number)\n",
        "print(\"Sum of Digits:\", digit_sum)\n"
      ],
      "metadata": {
        "colab": {
          "base_uri": "https://localhost:8080/"
        },
        "id": "iU_mvYTfSuxk",
        "outputId": "0a334fad-cf14-45c4-e203-8a93643e0dc9"
      },
      "execution_count": 28,
      "outputs": [
        {
          "output_type": "stream",
          "name": "stdout",
          "text": [
            "Sum of Digits: 15\n"
          ]
        }
      ]
    },
    {
      "cell_type": "markdown",
      "source": [
        "40. Implement a function to check if a given string is a valid palindrome considering case sensitivity."
      ],
      "metadata": {
        "id": "DC-liWbsS6rV"
      }
    },
    {
      "cell_type": "code",
      "source": [
        "def is_valid_palindrome(string):\n",
        "    # Remove whitespace and convert to lowercase\n",
        "    cleaned_string = string.replace(\" \", \"\").lower()\n",
        "\n",
        "    # Check if the cleaned string is equal to its reverse\n",
        "    return cleaned_string == cleaned_string[::-1]\n",
        "\n",
        "\n",
        "# Test the program\n",
        "input_string1 = \"A man a plan a canal Panama\"\n",
        "print(is_valid_palindrome(input_string1))  # Output: True\n",
        "\n",
        "input_string2 = \"racecar\"\n",
        "print(is_valid_palindrome(input_string2))  # Output: True\n",
        "\n",
        "input_string3 = \"Hello world\"\n",
        "print(is_valid_palindrome(input_string3))  # Output: False\n"
      ],
      "metadata": {
        "colab": {
          "base_uri": "https://localhost:8080/"
        },
        "id": "4NV0IqviS1TD",
        "outputId": "4177b9fb-54a8-4d2d-f7be-043385c2f77b"
      },
      "execution_count": 29,
      "outputs": [
        {
          "output_type": "stream",
          "name": "stdout",
          "text": [
            "True\n",
            "True\n",
            "False\n"
          ]
        }
      ]
    },
    {
      "cell_type": "markdown",
      "source": [
        "41. Write a Python program to find the smallest missing positive integer in a list."
      ],
      "metadata": {
        "id": "P48vH-J5TBIP"
      }
    },
    {
      "cell_type": "code",
      "source": [
        "def find_smallest_missing_positive(nums):\n",
        "    n = len(nums)\n",
        "\n",
        "    # Step 1: Move all positive integers to the left side of the list\n",
        "    left = 0\n",
        "    for i in range(n):\n",
        "        if nums[i] > 0:\n",
        "            nums[i], nums[left] = nums[left], nums[i]\n",
        "            left += 1\n",
        "\n",
        "    # Step 2: Mark the presence of positive integers using negative values\n",
        "    for i in range(left):\n",
        "        num = abs(nums[i])\n",
        "        if num <= left:\n",
        "            nums[num - 1] = -abs(nums[num - 1])\n",
        "\n",
        "    # Step 3: Find the smallest missing positive integer\n",
        "    for i in range(left):\n",
        "        if nums[i] > 0:\n",
        "            return i + 1\n",
        "\n",
        "    # If no missing positive integer found, return the next positive integer\n",
        "    return left + 1\n",
        "\n",
        "\n",
        "# Test the program\n",
        "number_list = [3, 4, -1, 1]\n",
        "smallest_missing = find_smallest_missing_positive(number_list)\n",
        "print(\"Smallest Missing Positive Integer:\", smallest_missing)\n"
      ],
      "metadata": {
        "colab": {
          "base_uri": "https://localhost:8080/"
        },
        "id": "rcuNxRVDS9Ui",
        "outputId": "d1dff9c0-eb8a-467d-f9cf-755a7cafd689"
      },
      "execution_count": 30,
      "outputs": [
        {
          "output_type": "stream",
          "name": "stdout",
          "text": [
            "Smallest Missing Positive Integer: 2\n"
          ]
        }
      ]
    },
    {
      "cell_type": "markdown",
      "source": [
        "42. Implement a function to find the longest palindrome substring in a given string."
      ],
      "metadata": {
        "id": "jNrjV2VLTQIC"
      }
    },
    {
      "cell_type": "code",
      "source": [
        "def longest_palindrome_substring(s):\n",
        "    if not s:\n",
        "        return \"\"\n",
        "\n",
        "    n = len(s)\n",
        "    start = 0\n",
        "    end = 0\n",
        "\n",
        "    for i in range(n):\n",
        "        len1 = expand_around_center(s, i, i)\n",
        "        len2 = expand_around_center(s, i, i + 1)\n",
        "        length = max(len1, len2)\n",
        "\n",
        "        if length > end - start:\n",
        "            start = i - (length - 1) // 2\n",
        "            end = i + length // 2\n",
        "\n",
        "    return s[start:end + 1]\n",
        "\n",
        "\n",
        "def expand_around_center(s, left, right):\n",
        "    while left >= 0 and right < len(s) and s[left] == s[right]:\n",
        "        left -= 1\n",
        "        right += 1\n",
        "\n",
        "    return right - left - 1\n",
        "\n",
        "\n",
        "# Test the function\n",
        "input_string = \"babad\"\n",
        "longest_palindrome = longest_palindrome_substring(input_string)\n",
        "print(\"Longest Palindrome Substring:\", longest_palindrome)\n"
      ],
      "metadata": {
        "colab": {
          "base_uri": "https://localhost:8080/"
        },
        "id": "Dh8SVvlqTJUw",
        "outputId": "083cead7-df03-42d5-abdc-53cb7fb8bc71"
      },
      "execution_count": 31,
      "outputs": [
        {
          "output_type": "stream",
          "name": "stdout",
          "text": [
            "Longest Palindrome Substring: aba\n"
          ]
        }
      ]
    },
    {
      "cell_type": "markdown",
      "source": [
        "43. Write a program to find the number of occurrences of a given element in a list."
      ],
      "metadata": {
        "id": "C8BICVc1TcF-"
      }
    },
    {
      "cell_type": "code",
      "source": [
        "def count_occurrences(lst, element):\n",
        "    count = 0\n",
        "\n",
        "    for item in lst:\n",
        "        if item == element:\n",
        "            count += 1\n",
        "\n",
        "    return count\n",
        "\n",
        "\n",
        "# Test the program\n",
        "my_list = [1, 2, 3, 2, 4, 2, 5]\n",
        "target_element = 2\n",
        "occurrences = count_occurrences(my_list, target_element)\n",
        "print(\"Number of Occurrences:\", occurrences)\n"
      ],
      "metadata": {
        "colab": {
          "base_uri": "https://localhost:8080/"
        },
        "id": "fjDmJWlQTUSQ",
        "outputId": "6c69cc2f-f71b-470a-dc80-3df6b0969dfe"
      },
      "execution_count": 32,
      "outputs": [
        {
          "output_type": "stream",
          "name": "stdout",
          "text": [
            "Number of Occurrences: 3\n"
          ]
        }
      ]
    },
    {
      "cell_type": "markdown",
      "source": [
        "44. Implement a function to check if a given number is a perfect number."
      ],
      "metadata": {
        "id": "nwvUVEybTg7B"
      }
    },
    {
      "cell_type": "code",
      "source": [
        "def is_perfect_number(number):\n",
        "    if number <= 0:\n",
        "        return False\n",
        "\n",
        "    divisors_sum = 0\n",
        "\n",
        "    # Find the divisors of the number\n",
        "    for i in range(1, number):\n",
        "        if number % i == 0:\n",
        "            divisors_sum += i\n",
        "\n",
        "    # Check if the sum of divisors is equal to the number\n",
        "    return divisors_sum == number\n",
        "\n",
        "\n",
        "# Test the function\n",
        "num1 = 6\n",
        "print(is_perfect_number(num1))  # Output: True\n",
        "\n",
        "num2 = 28\n",
        "print(is_perfect_number(num2))  # Output: True\n",
        "\n",
        "num3 = 12\n",
        "print(is_perfect_number(num3))  # Output: False\n"
      ],
      "metadata": {
        "colab": {
          "base_uri": "https://localhost:8080/"
        },
        "id": "egp6yTHNTeYR",
        "outputId": "2c629c17-d031-48df-a9b1-6c95639b735b"
      },
      "execution_count": 33,
      "outputs": [
        {
          "output_type": "stream",
          "name": "stdout",
          "text": [
            "True\n",
            "True\n",
            "False\n"
          ]
        }
      ]
    },
    {
      "cell_type": "markdown",
      "source": [
        "45. Write a Python program to remove all duplicates from a string."
      ],
      "metadata": {
        "id": "WyveNKWGTtmh"
      }
    },
    {
      "cell_type": "code",
      "source": [
        "def remove_duplicates(string):\n",
        "    # Create an empty set to store unique characters\n",
        "    unique_chars = set()\n",
        "\n",
        "    # Create a list to store the characters in the order of appearance\n",
        "    result = []\n",
        "\n",
        "    # Iterate over each character in the string\n",
        "    for char in string:\n",
        "        # Check if the character is not in the set of unique characters\n",
        "        if char not in unique_chars:\n",
        "            # Add the character to the set and the result list\n",
        "            unique_chars.add(char)\n",
        "            result.append(char)\n",
        "\n",
        "    # Join the characters in the result list to form the final string\n",
        "    final_string = ''.join(result)\n",
        "\n",
        "    return final_string\n",
        "\n",
        "\n",
        "# Test the program\n",
        "input_string = \"Hello, World!\"\n",
        "new_string = remove_duplicates(input_string)\n",
        "print(\"Original String:\", input_string)\n",
        "print(\"String with Duplicates Removed:\", new_string)\n"
      ],
      "metadata": {
        "colab": {
          "base_uri": "https://localhost:8080/"
        },
        "id": "CugdYdE-ToTJ",
        "outputId": "464f3b88-44a0-47d6-be6e-5ab2a6e21477"
      },
      "execution_count": 34,
      "outputs": [
        {
          "output_type": "stream",
          "name": "stdout",
          "text": [
            "Original String: Hello, World!\n",
            "String with Duplicates Removed: Helo, Wrd!\n"
          ]
        }
      ]
    },
    {
      "cell_type": "markdown",
      "source": [
        "46. Implement a function to find the first missing positive"
      ],
      "metadata": {
        "id": "rxbvYs7cUIZJ"
      }
    },
    {
      "cell_type": "code",
      "source": [
        "def find_first_missing_positive(nums):\n",
        "    n = len(nums)\n",
        "\n",
        "    # Step 1: Separate positive and non-positive integers\n",
        "    i = 0\n",
        "    while i < n:\n",
        "        if nums[i] > 0 and nums[i] <= n and nums[i] != nums[nums[i] - 1]:\n",
        "            nums[nums[i] - 1], nums[i] = nums[i], nums[nums[i] - 1]\n",
        "        else:\n",
        "            i += 1\n",
        "\n",
        "    # Step 2: Find the first missing positive integer\n",
        "    for i in range(n):\n",
        "        if nums[i] != i + 1:\n",
        "            return i + 1\n",
        "\n",
        "    # If all positive integers from 1 to n are present, return n + 1\n",
        "    return n + 1\n",
        "\n",
        "\n",
        "# Test the function\n",
        "number_list = [3, 4, -1, 1]\n",
        "first_missing = find_first_missing_positive(number_list)\n",
        "print(\"First Missing Positive Integer:\", first_missing)\n"
      ],
      "metadata": {
        "colab": {
          "base_uri": "https://localhost:8080/"
        },
        "id": "Wzmcw2FrUBf6",
        "outputId": "c0569fa9-09be-4f9b-85e2-f66261a6d3ad"
      },
      "execution_count": 35,
      "outputs": [
        {
          "output_type": "stream",
          "name": "stdout",
          "text": [
            "First Missing Positive Integer: 2\n"
          ]
        }
      ]
    },
    {
      "cell_type": "code",
      "source": [],
      "metadata": {
        "id": "R0Ua3kt7UL52"
      },
      "execution_count": null,
      "outputs": []
    }
  ]
}